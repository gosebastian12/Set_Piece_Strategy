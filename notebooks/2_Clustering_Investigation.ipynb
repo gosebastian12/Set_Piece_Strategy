{
 "cells": [
  {
   "cell_type": "markdown",
   "metadata": {},
   "source": [
    "# Neccessary Import Statements"
   ]
  },
  {
   "cell_type": "code",
   "execution_count": null,
   "metadata": {},
   "outputs": [],
   "source": [
    "# Allows for changes made to scripts in src to be included in the work\n",
    "# done in this notebook.\n",
    "%load_ext autoreload\n",
    "%autoreload 2"
   ]
  },
  {
   "cell_type": "code",
   "execution_count": null,
   "metadata": {},
   "outputs": [],
   "source": [
    "# file access\n",
    "import os\n",
    "notebook_dir = os.getcwd()"
   ]
  },
  {
   "cell_type": "code",
   "execution_count": 9,
   "metadata": {},
   "outputs": [],
   "source": [
    "# data manipulation\n",
    "import pandas as pd\n",
    "import numpy as np\n",
    "from sklearn.preprocessing import StandardScaler\n",
    "\n",
    "# data visualization\n",
    "import matplotlib.pyplot as plt\n",
    "\n",
    "# custom modules \n",
    "from src.data import common_tasks as ct\n",
    "from src.data import feature_engineering as fe\n",
    "# from src.models import clustering as clus"
   ]
  },
  {
   "cell_type": "markdown",
   "metadata": {},
   "source": [
    "# Add a Score Column to the Raw Tracking Data"
   ]
  },
  {
   "cell_type": "code",
   "execution_count": 3,
   "metadata": {},
   "outputs": [],
   "source": [
    "full_df = ct.EVENTS_DF"
   ]
  },
  {
   "cell_type": "code",
   "execution_count": 4,
   "metadata": {},
   "outputs": [],
   "source": [
    "scores_full_series = ct.score_compiler(events_data=full_df)\n",
    "full_df[\"score\"] = scores_full_series"
   ]
  },
  {
   "cell_type": "code",
   "execution_count": 6,
   "metadata": {},
   "outputs": [
    {
     "data": {
      "text/html": [
       "<div>\n",
       "<style scoped>\n",
       "    .dataframe tbody tr th:only-of-type {\n",
       "        vertical-align: middle;\n",
       "    }\n",
       "\n",
       "    .dataframe tbody tr th {\n",
       "        vertical-align: top;\n",
       "    }\n",
       "\n",
       "    .dataframe thead th {\n",
       "        text-align: right;\n",
       "    }\n",
       "</style>\n",
       "<table border=\"1\" class=\"dataframe\">\n",
       "  <thead>\n",
       "    <tr style=\"text-align: right;\">\n",
       "      <th></th>\n",
       "      <th>eventId</th>\n",
       "      <th>subEventName</th>\n",
       "      <th>tags</th>\n",
       "      <th>playerId</th>\n",
       "      <th>positions</th>\n",
       "      <th>matchId</th>\n",
       "      <th>eventName</th>\n",
       "      <th>teamId</th>\n",
       "      <th>matchPeriod</th>\n",
       "      <th>eventSec</th>\n",
       "      <th>subEventId</th>\n",
       "      <th>id</th>\n",
       "      <th>score</th>\n",
       "    </tr>\n",
       "  </thead>\n",
       "  <tbody>\n",
       "    <tr>\n",
       "      <th>3251289</th>\n",
       "      <td>5</td>\n",
       "      <td>Ball out of the field</td>\n",
       "      <td>[]</td>\n",
       "      <td>0</td>\n",
       "      <td>[{'y': 32, 'x': 0}, {'y': 100, 'x': 100}]</td>\n",
       "      <td>2500098</td>\n",
       "      <td>Interruption</td>\n",
       "      <td>1623</td>\n",
       "      <td>2H</td>\n",
       "      <td>2796.732525</td>\n",
       "      <td>50</td>\n",
       "      <td>251596409</td>\n",
       "      <td>1-1</td>\n",
       "    </tr>\n",
       "    <tr>\n",
       "      <th>3251290</th>\n",
       "      <td>3</td>\n",
       "      <td>Corner</td>\n",
       "      <td>[{'id': 302}, {'id': 801}, {'id': 1801}]</td>\n",
       "      <td>70965</td>\n",
       "      <td>[{'y': 100, 'x': 100}, {'y': 47, 'x': 88}]</td>\n",
       "      <td>2500098</td>\n",
       "      <td>Free Kick</td>\n",
       "      <td>1633</td>\n",
       "      <td>2H</td>\n",
       "      <td>2829.821084</td>\n",
       "      <td>30</td>\n",
       "      <td>251596232</td>\n",
       "      <td>1-1</td>\n",
       "    </tr>\n",
       "    <tr>\n",
       "      <th>3251291</th>\n",
       "      <td>1</td>\n",
       "      <td>Air duel</td>\n",
       "      <td>[{'id': 701}, {'id': 1802}]</td>\n",
       "      <td>7919</td>\n",
       "      <td>[{'y': 53, 'x': 12}, {'y': 50, 'x': 14}]</td>\n",
       "      <td>2500098</td>\n",
       "      <td>Duel</td>\n",
       "      <td>1623</td>\n",
       "      <td>2H</td>\n",
       "      <td>2831.211419</td>\n",
       "      <td>10</td>\n",
       "      <td>251596410</td>\n",
       "      <td>1-1</td>\n",
       "    </tr>\n",
       "    <tr>\n",
       "      <th>3251292</th>\n",
       "      <td>1</td>\n",
       "      <td>Air duel</td>\n",
       "      <td>[{'id': 703}, {'id': 1801}]</td>\n",
       "      <td>8005</td>\n",
       "      <td>[{'y': 47, 'x': 88}, {'y': 50, 'x': 86}]</td>\n",
       "      <td>2500098</td>\n",
       "      <td>Duel</td>\n",
       "      <td>1633</td>\n",
       "      <td>2H</td>\n",
       "      <td>2832.434399</td>\n",
       "      <td>10</td>\n",
       "      <td>251596234</td>\n",
       "      <td>1-1</td>\n",
       "    </tr>\n",
       "    <tr>\n",
       "      <th>3251293</th>\n",
       "      <td>10</td>\n",
       "      <td>Shot</td>\n",
       "      <td>[{'id': 403}, {'id': 201}, {'id': 1216}, {'id'...</td>\n",
       "      <td>8005</td>\n",
       "      <td>[{'y': 50, 'x': 86}, {'y': 0, 'x': 0}]</td>\n",
       "      <td>2500098</td>\n",
       "      <td>Shot</td>\n",
       "      <td>1633</td>\n",
       "      <td>2H</td>\n",
       "      <td>2834.127168</td>\n",
       "      <td>100</td>\n",
       "      <td>251596236</td>\n",
       "      <td>1-1</td>\n",
       "    </tr>\n",
       "  </tbody>\n",
       "</table>\n",
       "</div>"
      ],
      "text/plain": [
       "         eventId           subEventName  \\\n",
       "3251289        5  Ball out of the field   \n",
       "3251290        3                 Corner   \n",
       "3251291        1               Air duel   \n",
       "3251292        1               Air duel   \n",
       "3251293       10                   Shot   \n",
       "\n",
       "                                                      tags  playerId  \\\n",
       "3251289                                                 []         0   \n",
       "3251290           [{'id': 302}, {'id': 801}, {'id': 1801}]     70965   \n",
       "3251291                        [{'id': 701}, {'id': 1802}]      7919   \n",
       "3251292                        [{'id': 703}, {'id': 1801}]      8005   \n",
       "3251293  [{'id': 403}, {'id': 201}, {'id': 1216}, {'id'...      8005   \n",
       "\n",
       "                                          positions  matchId     eventName  \\\n",
       "3251289   [{'y': 32, 'x': 0}, {'y': 100, 'x': 100}]  2500098  Interruption   \n",
       "3251290  [{'y': 100, 'x': 100}, {'y': 47, 'x': 88}]  2500098     Free Kick   \n",
       "3251291    [{'y': 53, 'x': 12}, {'y': 50, 'x': 14}]  2500098          Duel   \n",
       "3251292    [{'y': 47, 'x': 88}, {'y': 50, 'x': 86}]  2500098          Duel   \n",
       "3251293      [{'y': 50, 'x': 86}, {'y': 0, 'x': 0}]  2500098          Shot   \n",
       "\n",
       "         teamId matchPeriod     eventSec subEventId         id score  \n",
       "3251289    1623          2H  2796.732525         50  251596409   1-1  \n",
       "3251290    1633          2H  2829.821084         30  251596232   1-1  \n",
       "3251291    1623          2H  2831.211419         10  251596410   1-1  \n",
       "3251292    1633          2H  2832.434399         10  251596234   1-1  \n",
       "3251293    1633          2H  2834.127168        100  251596236   1-1  "
      ]
     },
     "execution_count": 6,
     "metadata": {},
     "output_type": "execute_result"
    }
   ],
   "source": [
    "full_df.tail()"
   ]
  },
  {
   "cell_type": "code",
   "execution_count": null,
   "metadata": {},
   "outputs": [],
   "source": [
    "### ONLY RUN CELL IF YOU WOULD LIKE TO SAVE THIS DATAFRAME ### \n",
    "score_rel_dir = \"/Users/sebgo/Documents/Professional_Development/Sharpest_Minds/Set_Piece_Strategy_Identifier/data/interim\"\n",
    "full_df.to_csv(\"{}/events_with_scores.csv\".format(score_rel_dir))"
   ]
  },
  {
   "cell_type": "markdown",
   "metadata": {},
   "source": [
    "# Compile Engineered Features"
   ]
  },
  {
   "cell_type": "code",
   "execution_count": null,
   "metadata": {},
   "outputs": [],
   "source": [
    "features_df = fe.basic_instance_features(full_df)"
   ]
  },
  {
   "cell_type": "code",
   "execution_count": null,
   "metadata": {},
   "outputs": [],
   "source": [
    "features_df.head()"
   ]
  },
  {
   "cell_type": "markdown",
   "metadata": {},
   "source": [
    "# Join with Sequence Data That Has Already Been Put Together"
   ]
  },
  {
   "cell_type": "code",
   "execution_count": null,
   "metadata": {},
   "outputs": [],
   "source": [
    "sequences_df = pd.concat()"
   ]
  },
  {
   "cell_type": "markdown",
   "metadata": {},
   "source": [
    "# Scale Engineered Features"
   ]
  },
  {
   "cell_type": "code",
   "execution_count": null,
   "metadata": {},
   "outputs": [],
   "source": []
  },
  {
   "cell_type": "markdown",
   "metadata": {},
   "source": [
    "# Fit Model"
   ]
  },
  {
   "cell_type": "code",
   "execution_count": null,
   "metadata": {},
   "outputs": [],
   "source": []
  },
  {
   "cell_type": "markdown",
   "metadata": {},
   "source": [
    "# Evaluate and Visualize Model Results"
   ]
  },
  {
   "cell_type": "code",
   "execution_count": null,
   "metadata": {},
   "outputs": [],
   "source": []
  }
 ],
 "metadata": {
  "kernelspec": {
   "display_name": "fut_env",
   "language": "python",
   "name": "fut_env"
  },
  "language_info": {
   "codemirror_mode": {
    "name": "ipython",
    "version": 3
   },
   "file_extension": ".py",
   "mimetype": "text/x-python",
   "name": "python",
   "nbconvert_exporter": "python",
   "pygments_lexer": "ipython3",
   "version": "3.7.6"
  }
 },
 "nbformat": 4,
 "nbformat_minor": 4
}
